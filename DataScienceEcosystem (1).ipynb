{
 "cells": [
  {
   "cell_type": "markdown",
   "id": "ca30dc2e-ff79-44f5-9bcf-f69efd985bc2",
   "metadata": {
    "tags": []
   },
   "source": [
    "# Data Science Tools and Ecosystem\n"
   ]
  },
  {
   "cell_type": "markdown",
   "id": "2284cb8f-394f-4ce3-bc6b-124d4a408774",
   "metadata": {
    "tags": []
   },
   "source": [
    "## Introduction\n",
    "In this notebook, we will summarize the Data Science Tools and Ecosystem."
   ]
  },
  {
   "cell_type": "markdown",
   "id": "4ee1c560-13b1-4f6c-9760-875fb6ca25b3",
   "metadata": {},
   "source": [
    "## Data Science Languages \n",
    "Some of the popular languages that Data Scientist use are:\n",
    "    1. Python\n",
    "    2. R\n",
    "    3. SQL"
   ]
  },
  {
   "cell_type": "markdown",
   "id": "ee576f91-591b-4565-92de-4c50b1f77cea",
   "metadata": {},
   "source": [
    "## Data Science Libraries \n",
    "Some of the commonly used libraries used by Data Scientist include:\n",
    "1. Numpy\n",
    "2. Pandas\n",
    "3. Scikit-learn"
   ]
  },
  {
   "cell_type": "markdown",
   "id": "e56b6122-d28d-411a-b399-a933125d29be",
   "metadata": {
    "tags": []
   },
   "source": [
    "| Data Science Tools |\n",
    "|---|---|---|\n",
    "| Jupyter Notebook |\n",
    "| RStudio |\n",
    "| Google Colaboratory |\n"
   ]
  },
  {
   "cell_type": "markdown",
   "id": "09bb8e84-1a17-4ee2-84b5-502dc9620219",
   "metadata": {},
   "source": [
    "## Introduction to Arithmetic Expressions \n",
    "Below are a few examples of evaluating arithmetic expressions in Python"
   ]
  },
  {
   "cell_type": "code",
   "execution_count": 14,
   "id": "ac492709-f60a-4273-99d9-15e927adec87",
   "metadata": {
    "tags": []
   },
   "outputs": [
    {
     "data": {
      "text/plain": [
       "17"
      ]
     },
     "execution_count": 14,
     "metadata": {},
     "output_type": "execute_result"
    }
   ],
   "source": [
    "# This is a simple arithmetic expression to multiply then add integers.\n",
    "(3*4)+5"
   ]
  },
  {
   "cell_type": "code",
   "execution_count": 15,
   "id": "e8089560-436b-450f-9b09-af8e9476da8e",
   "metadata": {
    "tags": []
   },
   "outputs": [
    {
     "name": "stdout",
     "output_type": "stream",
     "text": [
      "3.3333333333333335\n"
     ]
    }
   ],
   "source": [
    "# This will convert 200 minutes to hours by dividing by 60\n",
    "hours=200/60\n",
    "print(hours)"
   ]
  },
  {
   "cell_type": "markdown",
   "id": "133fafd7-b068-4739-8f21-65b64c2f1993",
   "metadata": {},
   "source": [
    "## Objective\n",
    "* List popular Languages for Data Science.\n",
    "* List commonly used libraries in Data Science.\n",
    "* Describe Data Science Tools\n",
    "* Introduce arithmetic expressions in Python.\n",
    "* Evaluate arithmetic expressions in Python. "
   ]
  },
  {
   "cell_type": "markdown",
   "id": "dcef873d-599b-48d6-acef-9dd349fc0d94",
   "metadata": {},
   "source": [
    "## Auhtor\n",
    "Osvaldo Perez"
   ]
  },
  {
   "cell_type": "code",
   "execution_count": null,
   "id": "be354099-0ab6-4040-b380-d634e8eb9f1c",
   "metadata": {},
   "outputs": [],
   "source": []
  }
 ],
 "metadata": {
  "kernelspec": {
   "display_name": "Python",
   "language": "python",
   "name": "conda-env-python-py"
  },
  "language_info": {
   "codemirror_mode": {
    "name": "ipython",
    "version": 3
   },
   "file_extension": ".py",
   "mimetype": "text/x-python",
   "name": "python",
   "nbconvert_exporter": "python",
   "pygments_lexer": "ipython3",
   "version": "3.7.12"
  }
 },
 "nbformat": 4,
 "nbformat_minor": 5
}
